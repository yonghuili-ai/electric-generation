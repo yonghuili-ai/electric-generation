{
 "cells": [
  {
   "cell_type": "code",
   "execution_count": 252,
   "metadata": {
    "collapsed": true
   },
   "outputs": [],
   "source": [
    "import os\n",
    "import folium\n",
    "import json\n",
    "import numpy as np\n",
    "import pandas as pd\n",
    "import matplotlib.pyplot as plt\n",
    "%matplotlib inline\n",
    "import datetime      #for datetime operations\n",
    "import calendar      #for calendar for datetime operations\n",
    "import time          #to get the system time"
   ]
  },
  {
   "cell_type": "code",
   "execution_count": 253,
   "metadata": {},
   "outputs": [],
   "source": [
    "x1 = pd.ExcelFile('U.S._residential_electricity_price.xlsx')\n",
    "x2 = pd.read_csv('Predicted_price_of_electricity.csv')"
   ]
  },
  {
   "cell_type": "code",
   "execution_count": 254,
   "metadata": {
    "collapsed": true
   },
   "outputs": [],
   "source": [
    "df = x1.parse(x1.sheet_names[0])\n",
    "# Parse specified sheet(s) into a DataFrame\n",
    "# Equivalent to read_excel(ExcelFile, ...) See the read_excel\n",
    "# docstring for more info on accepted parameters"
   ]
  },
  {
   "cell_type": "code",
   "execution_count": 255,
   "metadata": {},
   "outputs": [
    {
     "data": {
      "text/plain": [
       "(40, 2)"
      ]
     },
     "execution_count": 255,
     "metadata": {},
     "output_type": "execute_result"
    }
   ],
   "source": [
    "# x2.head()\n",
    "x2.shape"
   ]
  },
  {
   "cell_type": "code",
   "execution_count": 256,
   "metadata": {
    "collapsed": true
   },
   "outputs": [],
   "source": [
    "# clean the imported dataframe to desired format\n",
    "# N is how many rows you want to keep\n",
    "def clean(file):\n",
    "    df1 = file.iloc[5:]\n",
    "    df1 = df1.iloc[:, range(3)]\n",
    "#     df2 = df1.iloc[N:]\n",
    "    df1.rename(columns={'U.S._residential_electricity_price': 'Date','Unnamed: 1':'Price'}, inplace=True)\n",
    "    df1.index = np.arange(1, len(df1) + 1)\n",
    "    return df1\n",
    "\n",
    "# convert string type date to float format\n",
    "def conv_date(dataframe,column):\n",
    "    Date = dataframe[column].tolist()\n",
    "    newdt=[]\n",
    "    for i in range(len(dataframe)):\n",
    "        newdt.append(pd.to_datetime(Date[i]))\n",
    "        i = i+1\n",
    "    dataframe['New_Date']=newdt\n",
    "    dataframe['Year']=dataframe['New_Date'].dt.year.astype(float)\n",
    "    dataframe['Month']=dataframe['New_Date'].dt.month.astype(float)\n",
    "    return dataframe"
   ]
  },
  {
   "cell_type": "code",
   "execution_count": 257,
   "metadata": {},
   "outputs": [
    {
     "data": {
      "text/plain": [
       "(162, 4)"
      ]
     },
     "execution_count": 257,
     "metadata": {},
     "output_type": "execute_result"
    }
   ],
   "source": [
    "df.shape"
   ]
  },
  {
   "cell_type": "code",
   "execution_count": 258,
   "metadata": {},
   "outputs": [
    {
     "data": {
      "text/plain": [
       "(157, 3)"
      ]
     },
     "execution_count": 258,
     "metadata": {},
     "output_type": "execute_result"
    }
   ],
   "source": [
    "df2 = clean(df)\n",
    "df2.shape"
   ]
  },
  {
   "cell_type": "code",
   "execution_count": 259,
   "metadata": {},
   "outputs": [
    {
     "data": {
      "text/html": [
       "<div>\n",
       "<style>\n",
       "    .dataframe thead tr:only-child th {\n",
       "        text-align: right;\n",
       "    }\n",
       "\n",
       "    .dataframe thead th {\n",
       "        text-align: left;\n",
       "    }\n",
       "\n",
       "    .dataframe tbody tr th {\n",
       "        vertical-align: top;\n",
       "    }\n",
       "</style>\n",
       "<table border=\"1\" class=\"dataframe\">\n",
       "  <thead>\n",
       "    <tr style=\"text-align: right;\">\n",
       "      <th></th>\n",
       "      <th>Date</th>\n",
       "      <th>Price</th>\n",
       "      <th>Unnamed: 2</th>\n",
       "    </tr>\n",
       "  </thead>\n",
       "  <tbody>\n",
       "    <tr>\n",
       "      <th>1</th>\n",
       "      <td>Dec 2019</td>\n",
       "      <td>NaN</td>\n",
       "      <td>13.2726</td>\n",
       "    </tr>\n",
       "    <tr>\n",
       "      <th>2</th>\n",
       "      <td>Nov 2019</td>\n",
       "      <td>NaN</td>\n",
       "      <td>13.7454</td>\n",
       "    </tr>\n",
       "    <tr>\n",
       "      <th>3</th>\n",
       "      <td>Oct 2019</td>\n",
       "      <td>NaN</td>\n",
       "      <td>13.4176</td>\n",
       "    </tr>\n",
       "    <tr>\n",
       "      <th>4</th>\n",
       "      <td>Sep 2019</td>\n",
       "      <td>NaN</td>\n",
       "      <td>14.0071</td>\n",
       "    </tr>\n",
       "    <tr>\n",
       "      <th>5</th>\n",
       "      <td>Aug 2019</td>\n",
       "      <td>NaN</td>\n",
       "      <td>13.8455</td>\n",
       "    </tr>\n",
       "  </tbody>\n",
       "</table>\n",
       "</div>"
      ],
      "text/plain": [
       "       Date Price Unnamed: 2\n",
       "1  Dec 2019   NaN    13.2726\n",
       "2  Nov 2019   NaN    13.7454\n",
       "3  Oct 2019   NaN    13.4176\n",
       "4  Sep 2019   NaN    14.0071\n",
       "5  Aug 2019   NaN    13.8455"
      ]
     },
     "execution_count": 259,
     "metadata": {},
     "output_type": "execute_result"
    }
   ],
   "source": [
    "df2.head()"
   ]
  },
  {
   "cell_type": "code",
   "execution_count": 260,
   "metadata": {},
   "outputs": [
    {
     "data": {
      "text/html": [
       "<div>\n",
       "<style>\n",
       "    .dataframe thead tr:only-child th {\n",
       "        text-align: right;\n",
       "    }\n",
       "\n",
       "    .dataframe thead th {\n",
       "        text-align: left;\n",
       "    }\n",
       "\n",
       "    .dataframe tbody tr th {\n",
       "        vertical-align: top;\n",
       "    }\n",
       "</style>\n",
       "<table border=\"1\" class=\"dataframe\">\n",
       "  <thead>\n",
       "    <tr style=\"text-align: right;\">\n",
       "      <th></th>\n",
       "      <th>Date</th>\n",
       "      <th>Price</th>\n",
       "      <th>Prediction</th>\n",
       "      <th>New_Date</th>\n",
       "      <th>Year</th>\n",
       "      <th>Month</th>\n",
       "    </tr>\n",
       "  </thead>\n",
       "  <tbody>\n",
       "    <tr>\n",
       "      <th>1</th>\n",
       "      <td>Dec 2019</td>\n",
       "      <td>NaN</td>\n",
       "      <td>13.2726</td>\n",
       "      <td>2019-12-01</td>\n",
       "      <td>2019.0</td>\n",
       "      <td>12.0</td>\n",
       "    </tr>\n",
       "    <tr>\n",
       "      <th>2</th>\n",
       "      <td>Nov 2019</td>\n",
       "      <td>NaN</td>\n",
       "      <td>13.7454</td>\n",
       "      <td>2019-11-01</td>\n",
       "      <td>2019.0</td>\n",
       "      <td>11.0</td>\n",
       "    </tr>\n",
       "    <tr>\n",
       "      <th>3</th>\n",
       "      <td>Oct 2019</td>\n",
       "      <td>NaN</td>\n",
       "      <td>13.4176</td>\n",
       "      <td>2019-10-01</td>\n",
       "      <td>2019.0</td>\n",
       "      <td>10.0</td>\n",
       "    </tr>\n",
       "    <tr>\n",
       "      <th>4</th>\n",
       "      <td>Sep 2019</td>\n",
       "      <td>NaN</td>\n",
       "      <td>14.0071</td>\n",
       "      <td>2019-09-01</td>\n",
       "      <td>2019.0</td>\n",
       "      <td>9.0</td>\n",
       "    </tr>\n",
       "    <tr>\n",
       "      <th>5</th>\n",
       "      <td>Aug 2019</td>\n",
       "      <td>NaN</td>\n",
       "      <td>13.8455</td>\n",
       "      <td>2019-08-01</td>\n",
       "      <td>2019.0</td>\n",
       "      <td>8.0</td>\n",
       "    </tr>\n",
       "    <tr>\n",
       "      <th>6</th>\n",
       "      <td>Jul 2019</td>\n",
       "      <td>NaN</td>\n",
       "      <td>13.8268</td>\n",
       "      <td>2019-07-01</td>\n",
       "      <td>2019.0</td>\n",
       "      <td>7.0</td>\n",
       "    </tr>\n",
       "    <tr>\n",
       "      <th>7</th>\n",
       "      <td>Jun 2019</td>\n",
       "      <td>NaN</td>\n",
       "      <td>13.8797</td>\n",
       "      <td>2019-06-01</td>\n",
       "      <td>2019.0</td>\n",
       "      <td>6.0</td>\n",
       "    </tr>\n",
       "    <tr>\n",
       "      <th>8</th>\n",
       "      <td>May 2019</td>\n",
       "      <td>NaN</td>\n",
       "      <td>13.692</td>\n",
       "      <td>2019-05-01</td>\n",
       "      <td>2019.0</td>\n",
       "      <td>5.0</td>\n",
       "    </tr>\n",
       "    <tr>\n",
       "      <th>9</th>\n",
       "      <td>Apr 2019</td>\n",
       "      <td>NaN</td>\n",
       "      <td>13.5704</td>\n",
       "      <td>2019-04-01</td>\n",
       "      <td>2019.0</td>\n",
       "      <td>4.0</td>\n",
       "    </tr>\n",
       "    <tr>\n",
       "      <th>10</th>\n",
       "      <td>Mar 2019</td>\n",
       "      <td>NaN</td>\n",
       "      <td>13.5289</td>\n",
       "      <td>2019-03-01</td>\n",
       "      <td>2019.0</td>\n",
       "      <td>3.0</td>\n",
       "    </tr>\n",
       "    <tr>\n",
       "      <th>11</th>\n",
       "      <td>Feb 2019</td>\n",
       "      <td>NaN</td>\n",
       "      <td>13.1382</td>\n",
       "      <td>2019-02-01</td>\n",
       "      <td>2019.0</td>\n",
       "      <td>2.0</td>\n",
       "    </tr>\n",
       "    <tr>\n",
       "      <th>12</th>\n",
       "      <td>Jan 2019</td>\n",
       "      <td>NaN</td>\n",
       "      <td>12.8025</td>\n",
       "      <td>2019-01-01</td>\n",
       "      <td>2019.0</td>\n",
       "      <td>1.0</td>\n",
       "    </tr>\n",
       "    <tr>\n",
       "      <th>13</th>\n",
       "      <td>Dec 2018</td>\n",
       "      <td>NaN</td>\n",
       "      <td>12.9613</td>\n",
       "      <td>2018-12-01</td>\n",
       "      <td>2018.0</td>\n",
       "      <td>12.0</td>\n",
       "    </tr>\n",
       "    <tr>\n",
       "      <th>14</th>\n",
       "      <td>Nov 2018</td>\n",
       "      <td>NaN</td>\n",
       "      <td>13.3992</td>\n",
       "      <td>2018-11-01</td>\n",
       "      <td>2018.0</td>\n",
       "      <td>11.0</td>\n",
       "    </tr>\n",
       "    <tr>\n",
       "      <th>15</th>\n",
       "      <td>Oct 2018</td>\n",
       "      <td>NaN</td>\n",
       "      <td>13.1426</td>\n",
       "      <td>2018-10-01</td>\n",
       "      <td>2018.0</td>\n",
       "      <td>10.0</td>\n",
       "    </tr>\n",
       "    <tr>\n",
       "      <th>16</th>\n",
       "      <td>Sep 2018</td>\n",
       "      <td>NaN</td>\n",
       "      <td>13.595</td>\n",
       "      <td>2018-09-01</td>\n",
       "      <td>2018.0</td>\n",
       "      <td>9.0</td>\n",
       "    </tr>\n",
       "    <tr>\n",
       "      <th>17</th>\n",
       "      <td>Aug 2018</td>\n",
       "      <td>NaN</td>\n",
       "      <td>13.4138</td>\n",
       "      <td>2018-08-01</td>\n",
       "      <td>2018.0</td>\n",
       "      <td>8.0</td>\n",
       "    </tr>\n",
       "    <tr>\n",
       "      <th>18</th>\n",
       "      <td>Jul 2018</td>\n",
       "      <td>NaN</td>\n",
       "      <td>13.3715</td>\n",
       "      <td>2018-07-01</td>\n",
       "      <td>2018.0</td>\n",
       "      <td>7.0</td>\n",
       "    </tr>\n",
       "    <tr>\n",
       "      <th>19</th>\n",
       "      <td>Jun 2018</td>\n",
       "      <td>NaN</td>\n",
       "      <td>13.3751</td>\n",
       "      <td>2018-06-01</td>\n",
       "      <td>2018.0</td>\n",
       "      <td>6.0</td>\n",
       "    </tr>\n",
       "    <tr>\n",
       "      <th>20</th>\n",
       "      <td>May 2018</td>\n",
       "      <td>NaN</td>\n",
       "      <td>13.1073</td>\n",
       "      <td>2018-05-01</td>\n",
       "      <td>2018.0</td>\n",
       "      <td>5.0</td>\n",
       "    </tr>\n",
       "    <tr>\n",
       "      <th>21</th>\n",
       "      <td>Apr 2018</td>\n",
       "      <td>12.8533</td>\n",
       "      <td>12.8533</td>\n",
       "      <td>2018-04-01</td>\n",
       "      <td>2018.0</td>\n",
       "      <td>4.0</td>\n",
       "    </tr>\n",
       "    <tr>\n",
       "      <th>22</th>\n",
       "      <td>Mar 2018</td>\n",
       "      <td>13.0219</td>\n",
       "      <td>13.0219</td>\n",
       "      <td>2018-03-01</td>\n",
       "      <td>2018.0</td>\n",
       "      <td>3.0</td>\n",
       "    </tr>\n",
       "    <tr>\n",
       "      <th>23</th>\n",
       "      <td>Feb 2018</td>\n",
       "      <td>12.62</td>\n",
       "      <td>NaN</td>\n",
       "      <td>2018-02-01</td>\n",
       "      <td>2018.0</td>\n",
       "      <td>2.0</td>\n",
       "    </tr>\n",
       "    <tr>\n",
       "      <th>24</th>\n",
       "      <td>Jan 2018</td>\n",
       "      <td>12.23</td>\n",
       "      <td>NaN</td>\n",
       "      <td>2018-01-01</td>\n",
       "      <td>2018.0</td>\n",
       "      <td>1.0</td>\n",
       "    </tr>\n",
       "    <tr>\n",
       "      <th>25</th>\n",
       "      <td>Dec 2017</td>\n",
       "      <td>12.5</td>\n",
       "      <td>NaN</td>\n",
       "      <td>2017-12-01</td>\n",
       "      <td>2017.0</td>\n",
       "      <td>12.0</td>\n",
       "    </tr>\n",
       "    <tr>\n",
       "      <th>26</th>\n",
       "      <td>Nov 2017</td>\n",
       "      <td>12.97</td>\n",
       "      <td>NaN</td>\n",
       "      <td>2017-11-01</td>\n",
       "      <td>2017.0</td>\n",
       "      <td>11.0</td>\n",
       "    </tr>\n",
       "    <tr>\n",
       "      <th>27</th>\n",
       "      <td>Oct 2017</td>\n",
       "      <td>12.84</td>\n",
       "      <td>NaN</td>\n",
       "      <td>2017-10-01</td>\n",
       "      <td>2017.0</td>\n",
       "      <td>10.0</td>\n",
       "    </tr>\n",
       "    <tr>\n",
       "      <th>28</th>\n",
       "      <td>Sep 2017</td>\n",
       "      <td>13.3</td>\n",
       "      <td>NaN</td>\n",
       "      <td>2017-09-01</td>\n",
       "      <td>2017.0</td>\n",
       "      <td>9.0</td>\n",
       "    </tr>\n",
       "    <tr>\n",
       "      <th>29</th>\n",
       "      <td>Aug 2017</td>\n",
       "      <td>13.19</td>\n",
       "      <td>NaN</td>\n",
       "      <td>2017-08-01</td>\n",
       "      <td>2017.0</td>\n",
       "      <td>8.0</td>\n",
       "    </tr>\n",
       "    <tr>\n",
       "      <th>30</th>\n",
       "      <td>Jul 2017</td>\n",
       "      <td>13.11</td>\n",
       "      <td>NaN</td>\n",
       "      <td>2017-07-01</td>\n",
       "      <td>2017.0</td>\n",
       "      <td>7.0</td>\n",
       "    </tr>\n",
       "  </tbody>\n",
       "</table>\n",
       "</div>"
      ],
      "text/plain": [
       "        Date    Price Prediction   New_Date    Year  Month\n",
       "1   Dec 2019      NaN    13.2726 2019-12-01  2019.0   12.0\n",
       "2   Nov 2019      NaN    13.7454 2019-11-01  2019.0   11.0\n",
       "3   Oct 2019      NaN    13.4176 2019-10-01  2019.0   10.0\n",
       "4   Sep 2019      NaN    14.0071 2019-09-01  2019.0    9.0\n",
       "5   Aug 2019      NaN    13.8455 2019-08-01  2019.0    8.0\n",
       "6   Jul 2019      NaN    13.8268 2019-07-01  2019.0    7.0\n",
       "7   Jun 2019      NaN    13.8797 2019-06-01  2019.0    6.0\n",
       "8   May 2019      NaN     13.692 2019-05-01  2019.0    5.0\n",
       "9   Apr 2019      NaN    13.5704 2019-04-01  2019.0    4.0\n",
       "10  Mar 2019      NaN    13.5289 2019-03-01  2019.0    3.0\n",
       "11  Feb 2019      NaN    13.1382 2019-02-01  2019.0    2.0\n",
       "12  Jan 2019      NaN    12.8025 2019-01-01  2019.0    1.0\n",
       "13  Dec 2018      NaN    12.9613 2018-12-01  2018.0   12.0\n",
       "14  Nov 2018      NaN    13.3992 2018-11-01  2018.0   11.0\n",
       "15  Oct 2018      NaN    13.1426 2018-10-01  2018.0   10.0\n",
       "16  Sep 2018      NaN     13.595 2018-09-01  2018.0    9.0\n",
       "17  Aug 2018      NaN    13.4138 2018-08-01  2018.0    8.0\n",
       "18  Jul 2018      NaN    13.3715 2018-07-01  2018.0    7.0\n",
       "19  Jun 2018      NaN    13.3751 2018-06-01  2018.0    6.0\n",
       "20  May 2018      NaN    13.1073 2018-05-01  2018.0    5.0\n",
       "21  Apr 2018  12.8533    12.8533 2018-04-01  2018.0    4.0\n",
       "22  Mar 2018  13.0219    13.0219 2018-03-01  2018.0    3.0\n",
       "23  Feb 2018    12.62        NaN 2018-02-01  2018.0    2.0\n",
       "24  Jan 2018    12.23        NaN 2018-01-01  2018.0    1.0\n",
       "25  Dec 2017     12.5        NaN 2017-12-01  2017.0   12.0\n",
       "26  Nov 2017    12.97        NaN 2017-11-01  2017.0   11.0\n",
       "27  Oct 2017    12.84        NaN 2017-10-01  2017.0   10.0\n",
       "28  Sep 2017     13.3        NaN 2017-09-01  2017.0    9.0\n",
       "29  Aug 2017    13.19        NaN 2017-08-01  2017.0    8.0\n",
       "30  Jul 2017    13.11        NaN 2017-07-01  2017.0    7.0"
      ]
     },
     "execution_count": 260,
     "metadata": {},
     "output_type": "execute_result"
    }
   ],
   "source": [
    "df3=conv_date(df2,'Date')\n",
    "df3.rename(columns={'Unnamed: 2':'Prediction'}, inplace=True)\n",
    "df3.head(30)"
   ]
  },
  {
   "cell_type": "code",
   "execution_count": 276,
   "metadata": {
    "collapsed": true
   },
   "outputs": [],
   "source": [
    "df3['Month'] = df3['Month'].astype(float)"
   ]
  },
  {
   "cell_type": "code",
   "execution_count": 278,
   "metadata": {},
   "outputs": [
    {
     "data": {
      "text/plain": [
       "count    157.000000\n",
       "mean       6.535032\n",
       "std        3.479848\n",
       "min        1.000000\n",
       "25%        4.000000\n",
       "50%        7.000000\n",
       "75%       10.000000\n",
       "max       12.000000\n",
       "Name: Month, dtype: float64"
      ]
     },
     "execution_count": 278,
     "metadata": {},
     "output_type": "execute_result"
    }
   ],
   "source": [
    "type(df3['Month'])\n",
    "df3['Month'].describe()"
   ]
  },
  {
   "cell_type": "code",
   "execution_count": 279,
   "metadata": {},
   "outputs": [
    {
     "data": {
      "text/plain": [
       "count     157.000000\n",
       "mean     2012.955414\n",
       "std         3.783134\n",
       "min      2006.000000\n",
       "25%      2010.000000\n",
       "50%      2013.000000\n",
       "75%      2016.000000\n",
       "max      2019.000000\n",
       "Name: Year, dtype: float64"
      ]
     },
     "execution_count": 279,
     "metadata": {},
     "output_type": "execute_result"
    }
   ],
   "source": [
    "df3['Year'].describe()"
   ]
  },
  {
   "cell_type": "code",
   "execution_count": 280,
   "metadata": {},
   "outputs": [
    {
     "data": {
      "text/plain": [
       "count     137.00\n",
       "unique    117.00\n",
       "top        12.09\n",
       "freq        4.00\n",
       "Name: Price, dtype: float64"
      ]
     },
     "execution_count": 280,
     "metadata": {},
     "output_type": "execute_result"
    }
   ],
   "source": [
    "df3['Price'].describe()"
   ]
  },
  {
   "cell_type": "code",
   "execution_count": null,
   "metadata": {
    "collapsed": true
   },
   "outputs": [],
   "source": []
  },
  {
   "cell_type": "code",
   "execution_count": 261,
   "metadata": {},
   "outputs": [
    {
     "data": {
      "text/plain": [
       "[<matplotlib.lines.Line2D at 0x1a1580dc18>]"
      ]
     },
     "execution_count": 261,
     "metadata": {},
     "output_type": "execute_result"
    },
    {
     "data": {
      "image/png": "[encoded data removed]",
      "text/plain": [
       "<matplotlib.figure.Figure at 0x1a158e7780>"
      ]
     },
     "metadata": {},
     "output_type": "display_data"
    }
   ],
   "source": [
    "import seaborn as sns\n",
    "y_train=df3.loc[21:157,{'Price'}].values\n",
    "x_train = df3.loc[:,{'Date'}].values\n",
    "plt.plot(y_train)\n",
    "# sns.distplot(y_train)"
   ]
  },
  {
   "cell_type": "code",
   "execution_count": null,
   "metadata": {
    "collapsed": true
   },
   "outputs": [],
   "source": []
  },
  {
   "cell_type": "code",
   "execution_count": 262,
   "metadata": {},
   "outputs": [
    {
     "data": {
      "text/html": [
       "<div>\n",
       "<style>\n",
       "    .dataframe thead tr:only-child th {\n",
       "        text-align: right;\n",
       "    }\n",
       "\n",
       "    .dataframe thead th {\n",
       "        text-align: left;\n",
       "    }\n",
       "\n",
       "    .dataframe tbody tr th {\n",
       "        vertical-align: top;\n",
       "    }\n",
       "</style>\n",
       "<table border=\"1\" class=\"dataframe\">\n",
       "  <thead>\n",
       "    <tr style=\"text-align: right;\">\n",
       "      <th></th>\n",
       "      <th>Month</th>\n",
       "      <th>Year</th>\n",
       "      <th>Prediction</th>\n",
       "    </tr>\n",
       "  </thead>\n",
       "  <tbody>\n",
       "    <tr>\n",
       "      <th>1</th>\n",
       "      <td>12.0</td>\n",
       "      <td>2019.0</td>\n",
       "      <td>13.2726</td>\n",
       "    </tr>\n",
       "    <tr>\n",
       "      <th>2</th>\n",
       "      <td>11.0</td>\n",
       "      <td>2019.0</td>\n",
       "      <td>13.7454</td>\n",
       "    </tr>\n",
       "    <tr>\n",
       "      <th>3</th>\n",
       "      <td>10.0</td>\n",
       "      <td>2019.0</td>\n",
       "      <td>13.4176</td>\n",
       "    </tr>\n",
       "    <tr>\n",
       "      <th>4</th>\n",
       "      <td>9.0</td>\n",
       "      <td>2019.0</td>\n",
       "      <td>14.0071</td>\n",
       "    </tr>\n",
       "    <tr>\n",
       "      <th>5</th>\n",
       "      <td>8.0</td>\n",
       "      <td>2019.0</td>\n",
       "      <td>13.8455</td>\n",
       "    </tr>\n",
       "  </tbody>\n",
       "</table>\n",
       "</div>"
      ],
      "text/plain": [
       "   Month    Year Prediction\n",
       "1   12.0  2019.0    13.2726\n",
       "2   11.0  2019.0    13.7454\n",
       "3   10.0  2019.0    13.4176\n",
       "4    9.0  2019.0    14.0071\n",
       "5    8.0  2019.0    13.8455"
      ]
     },
     "execution_count": 262,
     "metadata": {},
     "output_type": "execute_result"
    }
   ],
   "source": [
    "# now we need define the prediction data and data used to train/predict model\n",
    "\n",
    "# seperate the dataframe into history and future\n",
    "df_future = df3.iloc[range(19),:]\n",
    "df_future = df_future.loc[:,{'Prediction','Year','Month'}]\n",
    "df_future.head()\n",
    "# df_future.head(19)"
   ]
  },
  {
   "cell_type": "code",
   "execution_count": 286,
   "metadata": {},
   "outputs": [
    {
     "data": {
      "text/html": [
       "<div>\n",
       "<style>\n",
       "    .dataframe thead tr:only-child th {\n",
       "        text-align: right;\n",
       "    }\n",
       "\n",
       "    .dataframe thead th {\n",
       "        text-align: left;\n",
       "    }\n",
       "\n",
       "    .dataframe tbody tr th {\n",
       "        vertical-align: top;\n",
       "    }\n",
       "</style>\n",
       "<table border=\"1\" class=\"dataframe\">\n",
       "  <thead>\n",
       "    <tr style=\"text-align: right;\">\n",
       "      <th></th>\n",
       "      <th>Month</th>\n",
       "      <th>Year</th>\n",
       "      <th>Price</th>\n",
       "    </tr>\n",
       "  </thead>\n",
       "  <tbody>\n",
       "    <tr>\n",
       "      <th>21</th>\n",
       "      <td>4.0</td>\n",
       "      <td>2018.0</td>\n",
       "      <td>12.8533</td>\n",
       "    </tr>\n",
       "    <tr>\n",
       "      <th>22</th>\n",
       "      <td>3.0</td>\n",
       "      <td>2018.0</td>\n",
       "      <td>13.0219</td>\n",
       "    </tr>\n",
       "    <tr>\n",
       "      <th>23</th>\n",
       "      <td>2.0</td>\n",
       "      <td>2018.0</td>\n",
       "      <td>12.62</td>\n",
       "    </tr>\n",
       "    <tr>\n",
       "      <th>24</th>\n",
       "      <td>1.0</td>\n",
       "      <td>2018.0</td>\n",
       "      <td>12.23</td>\n",
       "    </tr>\n",
       "    <tr>\n",
       "      <th>25</th>\n",
       "      <td>12.0</td>\n",
       "      <td>2017.0</td>\n",
       "      <td>12.5</td>\n",
       "    </tr>\n",
       "  </tbody>\n",
       "</table>\n",
       "</div>"
      ],
      "text/plain": [
       "    Month    Year    Price\n",
       "21    4.0  2018.0  12.8533\n",
       "22    3.0  2018.0  13.0219\n",
       "23    2.0  2018.0    12.62\n",
       "24    1.0  2018.0    12.23\n",
       "25   12.0  2017.0     12.5"
      ]
     },
     "execution_count": 286,
     "metadata": {},
     "output_type": "execute_result"
    }
   ],
   "source": [
    "# http://www.datacarpentry.org/python-ecology-lesson/02-index-slice-subset/\n",
    "df3.shape # 157 \n",
    "# there should be 138 rows in history dataframe\n",
    "df_history = df3.iloc[20:157,:]\n",
    "df_history = df_history.loc[:,{'Price','Year','Month'}]\n",
    "# index_history = df_history['Month'].index\n",
    "df_history.head()\n",
    "# now we are ready to use df_history as dataset"
   ]
  },
  {
   "cell_type": "code",
   "execution_count": 264,
   "metadata": {},
   "outputs": [],
   "source": [
    "# prepare for training\n",
    "x_model = df_history[['Year','Month']]\n",
    "y_model = df_history['Price']"
   ]
  },
  {
   "cell_type": "code",
   "execution_count": 265,
   "metadata": {},
   "outputs": [],
   "source": [
    "# This is EIA prediction, will be compared with my model prediction\n",
    "x_future = df_future[['Year','Month']]\n",
    "y_future = df_future['Prediction']"
   ]
  },
  {
   "cell_type": "code",
   "execution_count": 282,
   "metadata": {},
   "outputs": [
    {
     "data": {
      "text/plain": [
       "Month         0\n",
       "Year          0\n",
       "Prediction    0\n",
       "dtype: int64"
      ]
     },
     "execution_count": 282,
     "metadata": {},
     "output_type": "execute_result"
    }
   ],
   "source": [
    "# better code to check for missing values in train data set\n",
    "variables_missing_value = df_future.isnull().sum()\n",
    "variables_missing_value "
   ]
  },
  {
   "cell_type": "code",
   "execution_count": 309,
   "metadata": {},
   "outputs": [
    {
     "data": {
      "text/plain": [
       "Month         float64\n",
       "Year          float64\n",
       "Prediction    float64\n",
       "dtype: object"
      ]
     },
     "execution_count": 309,
     "metadata": {},
     "output_type": "execute_result"
    }
   ],
   "source": [
    "# index = train_data['pickup_datetime'].index\n",
    "df_future['Month']=df_future['Month'].astype(float)\n",
    "df_future['Year']=df_future['Year'].astype(float)\n",
    "df_future['Prediction']=df_future['Prediction'].astype(float)\n",
    "df_future.dtypes"
   ]
  },
  {
   "cell_type": "code",
   "execution_count": 307,
   "metadata": {},
   "outputs": [
    {
     "data": {
      "text/plain": [
       "Month    float64\n",
       "Year     float64\n",
       "Price    float64\n",
       "dtype: object"
      ]
     },
     "execution_count": 307,
     "metadata": {},
     "output_type": "execute_result"
    }
   ],
   "source": [
    "df_history['Month']=df_history['Month'].astype(float)\n",
    "df_history['Year']=df_history['Year'].astype(float)\n",
    "df_history['Price']=df_history['Price'].astype(float)\n",
    "# df_history.head(2)\n",
    "df_history.dtypes"
   ]
  },
  {
   "cell_type": "code",
   "execution_count": 310,
   "metadata": {},
   "outputs": [
    {
     "data": {
      "text/plain": [
       "Month         float64\n",
       "Year          float64\n",
       "Prediction    float64\n",
       "dtype: object"
      ]
     },
     "execution_count": 310,
     "metadata": {},
     "output_type": "execute_result"
    }
   ],
   "source": [
    "df_future.dtypes"
   ]
  },
  {
   "cell_type": "code",
   "execution_count": 323,
   "metadata": {},
   "outputs": [
    {
     "data": {
      "text/plain": [
       "Text(0.5,1,'The effect of Month on Electricity Price')"
      ]
     },
     "execution_count": 323,
     "metadata": {},
     "output_type": "execute_result"
    },
    {
     "data": {
      "image/png": "[encoded data removed]",
      "text/plain": [
       "<matplotlib.figure.Figure at 0x1a15b1ac88>"
      ]
     },
     "metadata": {},
     "output_type": "display_data"
    }
   ],
   "source": [
    "# prediction on electricity price based on month\n",
    "# df6 = df_future['Prediction'].groupby(df_future['Month']) does not work\n",
    "df_month = pd.to_numeric(df_history['Price']).groupby(df_history['Month'])\n",
    "# https://stackoverflow.com/questions/48171492/no-numeric-types-to-aggregate-after-groupby-and-mean\n",
    "mean_month = df_month.mean()\n",
    "x_feature = [int(i) for i in mean_month.index]\n",
    "plt.plot(x_feature, mean_month, marker = 'o', label = 'Mean of Price')\n",
    "plt.ylabel(\"Price ($)\")\n",
    "plt.xlabel(\"Month\")\n",
    "plt.legend(loc='best')\n",
    "plt.title(\"The effect of Month on Electricity Price\")"
   ]
  },
  {
   "cell_type": "code",
   "execution_count": 325,
   "metadata": {},
   "outputs": [
    {
     "data": {
      "text/plain": [
       "Text(0.5,1,'The effect of Year on Electricity Price')"
      ]
     },
     "execution_count": 325,
     "metadata": {},
     "output_type": "execute_result"
    },
    {
     "data": {
      "image/png": "[encoded data removed]",
      "text/plain": [
       "<matplotlib.figure.Figure at 0x1a156cfdd8>"
      ]
     },
     "metadata": {},
     "output_type": "display_data"
    }
   ],
   "source": [
    "# electricity price based on year\n",
    "df_year = pd.to_numeric(df_history['Price']).groupby(df_history['Year'])\n",
    "mean_year = df_year.mean()\n",
    "x_feature = [int(i) for i in mean_year.index]\n",
    "plt.plot(x_feature, mean_year, marker = 'o', label = 'Mean of Price')\n",
    "plt.ylabel(\"Price ($)\")\n",
    "plt.xlabel(\"Year\")\n",
    "plt.legend(loc='best')\n",
    "plt.title(\"The effect of Year on Electricity Price\")"
   ]
  },
  {
   "cell_type": "code",
   "execution_count": 270,
   "metadata": {},
   "outputs": [
    {
     "data": {
      "text/plain": [
       "Month    0\n",
       "Year     0\n",
       "Price    0\n",
       "dtype: int64"
      ]
     },
     "execution_count": 270,
     "metadata": {},
     "output_type": "execute_result"
    }
   ],
   "source": [
    "# better code to check for missing values in train data set\n",
    "variables_missing_value = df_history.isnull().sum()\n",
    "variables_missing_value "
   ]
  },
  {
   "cell_type": "code",
   "execution_count": 215,
   "metadata": {},
   "outputs": [
    {
     "name": "stdout",
     "output_type": "stream",
     "text": [
      "Training and testing split was successful.\n"
     ]
    }
   ],
   "source": [
    "from sklearn.cross_validation import train_test_split\n",
    "# Shuffle and split the data into training and testing subsets\n",
    "X_train, X_test, y_train, y_test = train_test_split(x_model,y_model,train_size=0.8,test_size=0.2,random_state=1)\n",
    "\n",
    "# Success\n",
    "print(\"Training and testing split was successful.\")"
   ]
  },
  {
   "cell_type": "code",
   "execution_count": 216,
   "metadata": {
    "collapsed": true
   },
   "outputs": [],
   "source": [
    "def rmse(y_true,y_pred):\n",
    "    score=np.square((y_pred)-(y_true)).mean()**0.5\n",
    "    return score"
   ]
  },
  {
   "cell_type": "code",
   "execution_count": null,
   "metadata": {
    "collapsed": true
   },
   "outputs": [],
   "source": [
    "# Supervised learning algorithm\n"
   ]
  },
  {
   "cell_type": "code",
   "execution_count": null,
   "metadata": {
    "collapsed": true
   },
   "outputs": [],
   "source": [
    "from sklearn.ensemble import RandomForestRegressor\n",
    "from time import time\n",
    "\n",
    "# from time import time\n",
    "start = time() # Get start time\n",
    "rf=RandomForestRegressor(random_state=1)\n",
    "rf.fit(X_train,y_train)\n",
    "end = time() # Get end time\n",
    "print(\"Time taken by above cell is {:.7f}s.\".format(end - start))\n",
    "\n",
    "y_pred_rf = rf.predict(X_test)\n",
    "fscore_rf = rmse(y_test, y_pred_rf)\n",
    "# Print the results \n",
    "print(\"My RandomForester Regressor Predictor: [RMSE score: {:.8f}]\".format(fscore_rf)) "
   ]
  },
  {
   "cell_type": "code",
   "execution_count": 223,
   "metadata": {
    "scrolled": true
   },
   "outputs": [
    {
     "data": {
      "text/plain": [
       "<matplotlib.legend.Legend at 0x1a15215978>"
      ]
     },
     "execution_count": 223,
     "metadata": {},
     "output_type": "execute_result"
    },
    {
     "data": {
      "image/png": "[encoded data removed]",
      "text/plain": [
       "<matplotlib.figure.Figure at 0x1a1430b860>"
      ]
     },
     "metadata": {},
     "output_type": "display_data"
    }
   ],
   "source": [
    "# Now we need predict the next two years electricity price \n",
    "# based on trained model\n",
    "y_pred = rf.predict(x_future)\n",
    "fscore = rmse(y_future,y_pred)\n",
    "fscore\n",
    "My_model_predict=plt.plot(y_pred,'-r',label = 'My model predict') # this is predicted by my model\n",
    "EIA_predict=plt.plot(y_future,'-b',label = 'EIA predict') # this is predict by government\n",
    "# plt.legend([My_model_predict, EIA_predict],['My_model_predict', 'EIA_predict'])\n",
    "plt.legend(loc='upper right')"
   ]
  }
 ],
 "metadata": {
  "kernelspec": {
   "display_name": "Python 3",
   "language": "python",
   "name": "python3"
  },
  "language_info": {
   "codemirror_mode": {
    "name": "ipython",
    "version": 3
   },
   "file_extension": ".py",
   "mimetype": "text/x-python",
   "name": "python",
   "nbconvert_exporter": "python",
   "pygments_lexer": "ipython3",
   "version": "3.6.3"
  }
 },
 "nbformat": 4,
 "nbformat_minor": 2
}
