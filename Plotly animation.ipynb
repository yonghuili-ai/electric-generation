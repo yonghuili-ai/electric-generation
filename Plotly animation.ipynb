{
 "cells": [
  {
   "cell_type": "code",
   "execution_count": 1,
   "metadata": {
    "collapsed": true
   },
   "outputs": [],
   "source": [
    "import os\n",
    "import pandas as pd\n",
    "import plotly.plotly as py\n",
    "import plotly.graph_objs as go \n",
    "import plotly.tools as pt"
   ]
  },
  {
   "cell_type": "code",
   "execution_count": 2,
   "metadata": {
    "collapsed": true
   },
   "outputs": [],
   "source": [
    "username = 'yonghuili'\n",
    "api_key = '8Yhcnt2O9LuDUX2dvQYz'\n",
    "pt.set_credentials_file(username=username, api_key=api_key)"
   ]
  },
  {
   "cell_type": "code",
   "execution_count": 5,
   "metadata": {},
   "outputs": [
    {
     "data": {
      "image/png": "[encoded data removed]",
      "text/plain": [
       "<matplotlib.figure.Figure at 0x10d3fca90>"
      ]
     },
     "metadata": {},
     "output_type": "display_data"
    }
   ],
   "source": [
    "import numpy as np\n",
    "import matplotlib.pyplot as plt\n",
    "\n",
    "np.random.seed(19680801)\n",
    "\n",
    "n_bins = 10\n",
    "x = np.random.randn(1000, 3)\n",
    "colors = ['red', 'tan', 'lime']\n",
    "ax1.hist(x, n_bins, density=True, histtype='bar', stacked=True)\n",
    "ax1.set_title('stacked bar')\n",
    "\n",
    "# ax2.hist(x, n_bins, histtype='step', stacked=True, fill=False)\n",
    "# ax2.set_title('stack step (unfilled)')\n",
    "\n",
    "# # Make a multiple-histogram of data-sets with different length.\n",
    "# x_multi = [np.random.randn(n) for n in [10000, 5000, 2000]]\n",
    "# ax3.hist(x_multi, n_bins, histtype='bar')\n",
    "# ax3.set_title('different sample sizes')\n",
    "\n",
    "# fig.tight_layout()\n",
    "plt.show()"
   ]
  },
  {
   "cell_type": "code",
   "execution_count": null,
   "metadata": {
    "collapsed": true
   },
   "outputs": [],
   "source": []
  },
  {
   "cell_type": "code",
   "execution_count": null,
   "metadata": {
    "collapsed": true
   },
   "outputs": [],
   "source": []
  },
  {
   "cell_type": "code",
   "execution_count": null,
   "metadata": {
    "collapsed": true
   },
   "outputs": [],
   "source": []
  },
  {
   "cell_type": "code",
   "execution_count": null,
   "metadata": {
    "collapsed": true
   },
   "outputs": [],
   "source": []
  },
  {
   "cell_type": "code",
   "execution_count": null,
   "metadata": {
    "collapsed": true
   },
   "outputs": [],
   "source": []
  },
  {
   "cell_type": "code",
   "execution_count": 3,
   "metadata": {
    "collapsed": true
   },
   "outputs": [],
   "source": [
    "df = pd.read_csv(os.path.join('data','state_usage.csv'))\n",
    "names = ['December 2008 YTD', 'December 2009 YTD', 'December 2010 YTD', 'December 2011 YTD', 'December 2012 YTD',\n",
    "         'December 2013 YTD', 'December 2014 YTD', 'December 2015 YTD', 'December 2016 YTD','December 2017 YTD']\n",
    "df = df[['state']+names]\n",
    "df = df.drop([22]).reset_index(drop=True)\n",
    "# df\n",
    "years = []\n",
    "for i in range(2008, 2018):\n",
    "    years.append(str(i))\n",
    "# years\n",
    "# len(years)"
   ]
  },
  {
   "cell_type": "code",
   "execution_count": 4,
   "metadata": {
    "collapsed": true
   },
   "outputs": [],
   "source": [
    "def get_state(df, i):\n",
    "#     print(i)\n",
    "    state_name = df.iloc[i].tolist()[0]\n",
    "    val = df.iloc[i].tolist()[1:]\n",
    "    return state_name, val\n",
    "def get_visible(total, idx):\n",
    "    l = [False]*(total+1)\n",
    "    l[idx] = True\n",
    "    l[-1] = True\n",
    "    return l\n",
    "def gg_visible(total, idx):\n",
    "    l = [False]*(total+1)\n",
    "    l[idx+1] = True\n",
    "    l[0] = True\n",
    "    return l\n",
    "def get_all_visible(total):\n",
    "#     l = [False]*(total+1)\n",
    "#     l[0] = True\n",
    "#     return l\n",
    "    return [True]*(total+1)"
   ]
  },
  {
   "cell_type": "code",
   "execution_count": 5,
   "metadata": {
    "collapsed": true
   },
   "outputs": [],
   "source": [
    "def generate_data(df, total, years, colors):\n",
    "    data = []\n",
    "    for i in range(total):\n",
    "        state, val = get_state(df, i)\n",
    "        tmp = go.Scatter(x=years,\n",
    "                            y=val,\n",
    "                            name=state,\n",
    "                            visible=False,\n",
    "                            line=dict(color=colors[i]))\n",
    "        data.append(tmp)\n",
    "    data[0].visible = True\n",
    "    return data\n",
    "\n",
    "def get_buttons(df, total):\n",
    "    buttons = []\n",
    "    for i in range(total):\n",
    "        state, val = get_state(df, i)\n",
    "        visible_list = get_visible(total, i)\n",
    "        b = dict(label = state,\n",
    "                 method = 'update',\n",
    "                 args = [{'visible': visible_list},\n",
    "                         {'title': state,\n",
    "                          'annotations': []}\n",
    "                        ]\n",
    "                )\n",
    "        buttons.append(b)\n",
    "    buttons.append(\n",
    "        dict(label = 'ALL',\n",
    "            method = 'update',\n",
    "            args = [{'visible': get_all_visible(total)},\n",
    "                    {'title': 'ALL', 'annotations': []}])\n",
    "    )\n",
    "    return buttons\n",
    "\n",
    "def gg_data(df, total, years, colors):\n",
    "    data = []\n",
    "    for i in range(total):\n",
    "        state, val = get_state(df, i)\n",
    "        tmp = go.Scatter(x=years,\n",
    "                            y=val,\n",
    "                            name=state,\n",
    "                            visible=True,\n",
    "                            line=dict(color=colors[i]))\n",
    "        data.append(tmp)\n",
    "    return data\n",
    "\n",
    "def gg_buttons(df, total):\n",
    "    buttons = []\n",
    "    buttons.append(\n",
    "        dict(label = 'ALL',\n",
    "            method = 'update',\n",
    "            args = [{'visible': get_all_visible(total)},\n",
    "                    {'title': 'ALL', 'annotations': []}])\n",
    "    )\n",
    "    for i in range(total):\n",
    "        state, val = get_state(df, i)\n",
    "        visible_list = gg_visible(total, i)\n",
    "        b = dict(label = state,\n",
    "                 method = 'update',\n",
    "                 args = [{'visible': visible_list},\n",
    "                         {'title': state,\n",
    "                          'annotations': []}\n",
    "                        ]\n",
    "                )\n",
    "        buttons.append(b)\n",
    "    return buttons\n",
    "\n",
    "def get_layout(data, buttons):\n",
    "    menus = list([\n",
    "        dict(type=\"buttons\",\n",
    "         active=-1,\n",
    "         buttons=buttons\n",
    "    )])\n",
    "    layout = dict(title='Electricity', showlegend=False, updatemenus=menus)\n",
    "    return layout"
   ]
  },
  {
   "cell_type": "code",
   "execution_count": 6,
   "metadata": {
    "collapsed": true
   },
   "outputs": [],
   "source": [
    "total = 15\n",
    "color50 = ['#0cb8f5', '#c785af', '#39dd2b', '#817328', '#e65e1c', '#5144b4', '#d4fb07',\n",
    "                    '#048254', '#53069a', '#f3c0dc', '#2c41fa', '#b438a3', '#265f2b', '#7d48a3',\n",
    "                    '#2795c1', '#164213', '#755ac5', '#5ade9b', '#4c0053', '#dd33f8', '#edb312',\n",
    "                    '#743637', '#359e6e', '#110245', '#1f7937', '#c24e95', '#a8e2cb', '#e5ee71',\n",
    "                    '#418445', '#fd8c95', '#f88775', '#a61401', '#fd78c3', '#008889', '#81072e',\n",
    "                    '#08c45e', '#67e7c7', '#c24142', '#4440ab', '#3fedc5', '#bfefd6', '#394877',\n",
    "                    '#93b6ad', '#40898b', '#782f1e', '#ce6122', '#52364d', '#c47762', '#63ed69',\n",
    "                    '#5e753f']\n",
    "colors = ['#3333cc']*total\n",
    "data = generate_data(df, total, years, color50)\n",
    "buttons = get_buttons(df, total)\n",
    "layout = get_layout(data, buttons)\n",
    "\n",
    "# dd = gg_data(df, total, years, colors)\n",
    "# bb = gg_buttons(df, total)\n",
    "# layout = get_layout(dd, bb)"
   ]
  },
  {
   "cell_type": "code",
   "execution_count": 7,
   "metadata": {},
   "outputs": [
    {
     "data": {
      "text/html": [
       "<iframe id=\"igraph\" scrolling=\"no\" style=\"border:none;\" seamless=\"seamless\" src=\"https://plot.ly/~kwwang/2.embed\" height=\"525px\" width=\"100%\"></iframe>"
      ],
      "text/plain": [
       "<plotly.tools.PlotlyDisplay object>"
      ]
     },
     "execution_count": 7,
     "metadata": {},
     "output_type": "execute_result"
    }
   ],
   "source": [
    "fig = dict(data=data, layout=layout)\n",
    "py.iplot(fig, filename='usa')"
   ]
  },
  {
   "cell_type": "code",
   "execution_count": null,
   "metadata": {
    "collapsed": true
   },
   "outputs": [],
   "source": []
  }
 ],
 "metadata": {
  "kernelspec": {
   "display_name": "Python 3",
   "language": "python",
   "name": "python3"
  },
  "language_info": {
   "codemirror_mode": {
    "name": "ipython",
    "version": 3
   },
   "file_extension": ".py",
   "mimetype": "text/x-python",
   "name": "python",
   "nbconvert_exporter": "python",
   "pygments_lexer": "ipython3",
   "version": "3.6.3"
  }
 },
 "nbformat": 4,
 "nbformat_minor": 2
}
